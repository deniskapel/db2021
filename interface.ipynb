{
 "cells": [
  {
   "cell_type": "markdown",
   "metadata": {},
   "source": [
    "load data"
   ]
  },
  {
   "cell_type": "code",
   "execution_count": 1,
   "metadata": {},
   "outputs": [],
   "source": [
    "import pandas as pd"
   ]
  },
  {
   "cell_type": "code",
   "execution_count": 2,
   "metadata": {},
   "outputs": [],
   "source": [
    "he = pd.read_csv('data/HE.csv', encoding='utf-8', sep=\";\", na_filter=False)"
   ]
  },
  {
   "cell_type": "code",
   "execution_count": 3,
   "metadata": {},
   "outputs": [
    {
     "data": {
      "text/html": [
       "<div>\n",
       "<style scoped>\n",
       "    .dataframe tbody tr th:only-of-type {\n",
       "        vertical-align: middle;\n",
       "    }\n",
       "\n",
       "    .dataframe tbody tr th {\n",
       "        vertical-align: top;\n",
       "    }\n",
       "\n",
       "    .dataframe thead th {\n",
       "        text-align: right;\n",
       "    }\n",
       "</style>\n",
       "<table border=\"1\" class=\"dataframe\">\n",
       "  <thead>\n",
       "    <tr style=\"text-align: right;\">\n",
       "      <th></th>\n",
       "      <th>Country</th>\n",
       "      <th>University</th>\n",
       "      <th>Funding</th>\n",
       "      <th>Website</th>\n",
       "      <th>Majors</th>\n",
       "      <th>Rated</th>\n",
       "      <th>ARWU 2020</th>\n",
       "      <th>THE 2021</th>\n",
       "      <th>QS 2021</th>\n",
       "      <th>ICT</th>\n",
       "    </tr>\n",
       "  </thead>\n",
       "  <tbody>\n",
       "    <tr>\n",
       "      <th>0</th>\n",
       "      <td>Bahrain</td>\n",
       "      <td>Ahlia University</td>\n",
       "      <td>Private</td>\n",
       "      <td>http://www.ahliauniversity.edu.bh</td>\n",
       "      <td>'business administration', 'accountancy', 'mod...</td>\n",
       "      <td>False</td>\n",
       "      <td></td>\n",
       "      <td></td>\n",
       "      <td></td>\n",
       "      <td>True</td>\n",
       "    </tr>\n",
       "    <tr>\n",
       "      <th>1</th>\n",
       "      <td>Bahrain</td>\n",
       "      <td>AMA International University - Bahrain</td>\n",
       "      <td>Private</td>\n",
       "      <td>http://www.amaiu.edu.bh</td>\n",
       "      <td>'business administration', 'business informati...</td>\n",
       "      <td>False</td>\n",
       "      <td></td>\n",
       "      <td></td>\n",
       "      <td></td>\n",
       "      <td>True</td>\n",
       "    </tr>\n",
       "    <tr>\n",
       "      <th>2</th>\n",
       "      <td>Bahrain</td>\n",
       "      <td>American University of Bahrain</td>\n",
       "      <td>Private</td>\n",
       "      <td>www.aubh.edu.bh</td>\n",
       "      <td>'business and management', 'multimedia design'...</td>\n",
       "      <td>False</td>\n",
       "      <td></td>\n",
       "      <td></td>\n",
       "      <td></td>\n",
       "      <td>True</td>\n",
       "    </tr>\n",
       "    <tr>\n",
       "      <th>3</th>\n",
       "      <td>Bahrain</td>\n",
       "      <td>Applied Science University</td>\n",
       "      <td>Private</td>\n",
       "      <td>http://www.asu.edu.bh</td>\n",
       "      <td>'business administration', 'law', 'information...</td>\n",
       "      <td>True</td>\n",
       "      <td></td>\n",
       "      <td></td>\n",
       "      <td>651-700</td>\n",
       "      <td>True</td>\n",
       "    </tr>\n",
       "    <tr>\n",
       "      <th>4</th>\n",
       "      <td>Bahrain</td>\n",
       "      <td>Arab Open University - Bahrain Branch</td>\n",
       "      <td>Private</td>\n",
       "      <td>http://www.aou.org.bh</td>\n",
       "      <td>'business administration', 'information techno...</td>\n",
       "      <td>False</td>\n",
       "      <td></td>\n",
       "      <td></td>\n",
       "      <td></td>\n",
       "      <td>True</td>\n",
       "    </tr>\n",
       "  </tbody>\n",
       "</table>\n",
       "</div>"
      ],
      "text/plain": [
       "   Country                              University  Funding  \\\n",
       "0  Bahrain                        Ahlia University  Private   \n",
       "1  Bahrain  AMA International University - Bahrain  Private   \n",
       "2  Bahrain          American University of Bahrain  Private   \n",
       "3  Bahrain              Applied Science University  Private   \n",
       "4  Bahrain   Arab Open University - Bahrain Branch  Private   \n",
       "\n",
       "                             Website  \\\n",
       "0  http://www.ahliauniversity.edu.bh   \n",
       "1            http://www.amaiu.edu.bh   \n",
       "2                    www.aubh.edu.bh   \n",
       "3              http://www.asu.edu.bh   \n",
       "4              http://www.aou.org.bh   \n",
       "\n",
       "                                              Majors  Rated ARWU 2020  \\\n",
       "0  'business administration', 'accountancy', 'mod...  False             \n",
       "1  'business administration', 'business informati...  False             \n",
       "2  'business and management', 'multimedia design'...  False             \n",
       "3  'business administration', 'law', 'information...   True             \n",
       "4  'business administration', 'information techno...  False             \n",
       "\n",
       "  THE 2021  QS 2021   ICT  \n",
       "0                    True  \n",
       "1                    True  \n",
       "2                    True  \n",
       "3           651-700  True  \n",
       "4                    True  "
      ]
     },
     "execution_count": 3,
     "metadata": {},
     "output_type": "execute_result"
    }
   ],
   "source": [
    "he = he.loc[:, 'Country': \"ICT\"][he.Website != \"\"]\n",
    "he.head()"
   ]
  },
  {
   "cell_type": "markdown",
   "metadata": {},
   "source": [
    "connecting to db"
   ]
  },
  {
   "cell_type": "code",
   "execution_count": 4,
   "metadata": {},
   "outputs": [],
   "source": [
    "import mysql.connector"
   ]
  },
  {
   "cell_type": "code",
   "execution_count": 5,
   "metadata": {},
   "outputs": [],
   "source": [
    "con = mysql.connector.connect(\n",
    "    host='127.0.0.1',\n",
    "    port=33062,\n",
    "    database=\"edu_orgs\", user='exam_db', password='NarrowBezel3')"
   ]
  },
  {
   "cell_type": "code",
   "execution_count": 6,
   "metadata": {},
   "outputs": [],
   "source": [
    "cur=con.cursor(dictionary=True)"
   ]
  },
  {
   "cell_type": "markdown",
   "metadata": {},
   "source": [
    "Test connection"
   ]
  },
  {
   "cell_type": "code",
   "execution_count": 7,
   "metadata": {},
   "outputs": [],
   "source": [
    "cur.execute(\"SELECT * FROM institutions LIMIT 0, 5\")"
   ]
  },
  {
   "cell_type": "code",
   "execution_count": 8,
   "metadata": {},
   "outputs": [
    {
     "data": {
      "text/plain": [
       "[{'institution_id': 1,\n",
       "  'institution_name': 'National Research University Higher School of Economics',\n",
       "  'institution_short': 'HSE',\n",
       "  'country_id': 11,\n",
       "  'website': 'https://www.hse.ru/en/',\n",
       "  'funding': 'public'},\n",
       " {'institution_id': 2,\n",
       "  'institution_name': 'Tomsk State Pedagogical Univesity',\n",
       "  'institution_short': 'TSPU',\n",
       "  'country_id': 11,\n",
       "  'website': 'https://www.tspu.edu.ru/en/',\n",
       "  'funding': 'public'}]"
      ]
     },
     "execution_count": 8,
     "metadata": {},
     "output_type": "execute_result"
    }
   ],
   "source": [
    "data=cur.fetchall()\n",
    "data"
   ]
  },
  {
   "cell_type": "markdown",
   "metadata": {},
   "source": [
    "## Check what is in the db"
   ]
  },
  {
   "cell_type": "markdown",
   "metadata": {},
   "source": [
    "geographic data"
   ]
  },
  {
   "cell_type": "code",
   "execution_count": 9,
   "metadata": {},
   "outputs": [],
   "source": [
    "cur.execute(\"\"\"\n",
    "    SELECT country_name, region_name FROM countries\n",
    "    JOIN geo_regions USING(region_id)\n",
    "    WHERE region_id IN (2,3,4);\n",
    "\"\"\")"
   ]
  },
  {
   "cell_type": "code",
   "execution_count": 10,
   "metadata": {},
   "outputs": [
    {
     "data": {
      "text/plain": [
       "[{'country_name': 'Bahrain', 'region_name': 'Arab States'},\n",
       " {'country_name': 'Iraq', 'region_name': 'Arab States'},\n",
       " {'country_name': 'Jordan', 'region_name': 'Arab States'},\n",
       " {'country_name': 'Kuwait', 'region_name': 'Arab States'},\n",
       " {'country_name': 'Lebanon', 'region_name': 'Arab States'},\n",
       " {'country_name': 'Oman', 'region_name': 'Arab States'},\n",
       " {'country_name': 'Qatar', 'region_name': 'Arab States'},\n",
       " {'country_name': 'Saudi Arabia', 'region_name': 'Arab States'},\n",
       " {'country_name': 'United Arab Emirates', 'region_name': 'Arab States'},\n",
       " {'country_name': 'Pakistan', 'region_name': 'Asia and the Pacific'},\n",
       " {'country_name': 'Russian Federation',\n",
       "  'region_name': 'Europe and North America'}]"
      ]
     },
     "execution_count": 10,
     "metadata": {},
     "output_type": "execute_result"
    }
   ],
   "source": [
    "data=cur.fetchall()\n",
    "data"
   ]
  },
  {
   "cell_type": "markdown",
   "metadata": {},
   "source": [
    "Filter institutions by country"
   ]
  },
  {
   "cell_type": "code",
   "execution_count": 11,
   "metadata": {},
   "outputs": [],
   "source": [
    "cur.execute(\"\"\"\n",
    "    SELECT country_acronym as country,\n",
    "    institution_short as university,\n",
    "    website, funding\n",
    "    FROM institutions JOIN countries USING(country_id)\n",
    "    WHERE country_id=11;\n",
    "\"\"\")"
   ]
  },
  {
   "cell_type": "code",
   "execution_count": 12,
   "metadata": {},
   "outputs": [
    {
     "data": {
      "text/plain": [
       "[{'country': 'RU',\n",
       "  'university': 'HSE',\n",
       "  'website': 'https://www.hse.ru/en/',\n",
       "  'funding': 'public'},\n",
       " {'country': 'RU',\n",
       "  'university': 'TSPU',\n",
       "  'website': 'https://www.tspu.edu.ru/en/',\n",
       "  'funding': 'public'}]"
      ]
     },
     "execution_count": 12,
     "metadata": {},
     "output_type": "execute_result"
    }
   ],
   "source": [
    "data=cur.fetchall()\n",
    "data"
   ]
  },
  {
   "cell_type": "markdown",
   "metadata": {},
   "source": [
    "Check the category of the institution: HE or TVET (TVET to be collected)"
   ]
  },
  {
   "cell_type": "code",
   "execution_count": 13,
   "metadata": {},
   "outputs": [],
   "source": [
    "cur.execute(\"\"\"\n",
    "    SELECT country_acronym as country, institution_short as university,\n",
    "    type_full as category, website FROM\n",
    "        (SELECT institution_id, country_id, institution_short, website, type_full FROM institutions \n",
    "        JOIN institution_type USING(institution_id)) as tbl1\n",
    "    JOIN countries USING(country_id);\n",
    "\"\"\")"
   ]
  },
  {
   "cell_type": "code",
   "execution_count": 14,
   "metadata": {},
   "outputs": [
    {
     "data": {
      "text/plain": [
       "[{'country': 'RU',\n",
       "  'university': 'HSE',\n",
       "  'category': 'Higher Education',\n",
       "  'website': 'https://www.hse.ru/en/'},\n",
       " {'country': 'RU',\n",
       "  'university': 'TSPU',\n",
       "  'category': 'Technical and Vocational Education and Training',\n",
       "  'website': 'https://www.tspu.edu.ru/en/'},\n",
       " {'country': 'RU',\n",
       "  'university': 'TSPU',\n",
       "  'category': 'Higher Education',\n",
       "  'website': 'https://www.tspu.edu.ru/en/'}]"
      ]
     },
     "execution_count": 14,
     "metadata": {},
     "output_type": "execute_result"
    }
   ],
   "source": [
    "data=cur.fetchall()\n",
    "data"
   ]
  },
  {
   "cell_type": "markdown",
   "metadata": {},
   "source": [
    "Check if it is listed in international ratings and has IT courses"
   ]
  },
  {
   "cell_type": "code",
   "execution_count": 15,
   "metadata": {},
   "outputs": [],
   "source": [
    "cur.execute(\"\"\"\n",
    "    SELECT * FROM\n",
    "        (SELECT institution_id, \n",
    "        institution_short as university,\n",
    "        arwu, the, qs\n",
    "        FROM institutions JOIN ratings USING(institution_id)) as tbl1\n",
    "    JOIN \n",
    "        (SELECT institution_id, \n",
    "        GROUP_CONCAT(DISTINCT major SEPARATOR \", \") as majors \n",
    "        FROM majors WHERE major REGEXP \n",
    "        '(computer science)|(artificial intelligence)|(data science)'\n",
    "        GROUP BY institution_id) as tbl2\n",
    "    USING(institution_id);\n",
    "\"\"\")"
   ]
  },
  {
   "cell_type": "code",
   "execution_count": 16,
   "metadata": {},
   "outputs": [
    {
     "data": {
      "text/plain": [
       "[{'institution_id': 1,\n",
       "  'university': 'HSE',\n",
       "  'arwu': '801-900',\n",
       "  'the': '251-300',\n",
       "  'qs': '298',\n",
       "  'majors': 'computer science, data science'}]"
      ]
     },
     "execution_count": 16,
     "metadata": {},
     "output_type": "execute_result"
    }
   ],
   "source": [
    "data=cur.fetchall()\n",
    "data"
   ]
  },
  {
   "cell_type": "markdown",
   "metadata": {},
   "source": [
    "## Populate database"
   ]
  },
  {
   "cell_type": "markdown",
   "metadata": {},
   "source": [
    "transform pandas into to json"
   ]
  },
  {
   "cell_type": "code",
   "execution_count": 17,
   "metadata": {},
   "outputs": [],
   "source": [
    "import json"
   ]
  },
  {
   "cell_type": "code",
   "execution_count": 18,
   "metadata": {},
   "outputs": [
    {
     "data": {
      "text/plain": [
       "{'Bahrain': 1,\n",
       " 'Iraq': 2,\n",
       " 'Jordan': 3,\n",
       " 'Kuwait': 4,\n",
       " 'Lebanon': 5,\n",
       " 'Oman': 6,\n",
       " 'Pakistan': 10,\n",
       " 'Qatar': 7,\n",
       " 'Russian Federation': 11,\n",
       " 'Saudi Arabia': 8,\n",
       " 'United Arab Emirates': 9}"
      ]
     },
     "execution_count": 18,
     "metadata": {},
     "output_type": "execute_result"
    }
   ],
   "source": [
    "cur.execute(\"\"\"\n",
    "    SELECT country_name as Country, country_id as id FROM countries;\n",
    "\"\"\")\n",
    "countries=cur.fetchall()\n",
    "countries = {entry['Country']: entry['id'] for entry in countries}\n",
    "countries"
   ]
  },
  {
   "cell_type": "code",
   "execution_count": 19,
   "metadata": {},
   "outputs": [
    {
     "data": {
      "text/plain": [
       "'{\"Country\": \"Bahrain\", \"University\": \"Gulf University Al-Jame`a Al-Khaleejia\", \"Funding\": \"Public\", \"Website\": \"http://www.gulfuniversity.edu.bh\", \"Majors\": \"\\'administrative and financial sciences\\', \\'interior design engineering\\', \\'network administration\\', \\'web and mobile applications development\\'\", \"Rated\": false, \"ARWU 2020\": \"\", \"THE 2021\": \"\", \"QS 2021\": \"\", \"ICT\": true}'"
      ]
     },
     "execution_count": 19,
     "metadata": {},
     "output_type": "execute_result"
    }
   ],
   "source": [
    "result = he.to_json(orient=\"records\")\n",
    "unis = json.loads(result)\n",
    "json.dumps(unis[9])"
   ]
  },
  {
   "cell_type": "code",
   "execution_count": 20,
   "metadata": {},
   "outputs": [
    {
     "data": {
      "text/plain": [
       "555"
      ]
     },
     "execution_count": 20,
     "metadata": {},
     "output_type": "execute_result"
    }
   ],
   "source": [
    "len(unis)"
   ]
  },
  {
   "cell_type": "code",
   "execution_count": 21,
   "metadata": {},
   "outputs": [
    {
     "name": "stdout",
     "output_type": "stream",
     "text": [
      "AlKhair University (Admission has been banned at all levels Bachelors & Masters w.e.f Fall 2016 & MS/MPhil/PhD w.e.f Fall 2014)\n",
      "Dadabhoy Institute of Higher Education (Admissions allowed only at SNPA-17/B Block 3 P.E.C.H. Society,Shaheed-e-Millat Road Karachi)\n",
      "Sindh Institute of Management & Technology (Admissions allowed only at LS 37/10 Sector-15 Main Korangi Industrial Karachi in specific departements Maximum intake 40 till December 2020)\n"
     ]
    }
   ],
   "source": [
    "for a in unis:\n",
    "    name = a[\"University\"]\n",
    "    if len(name) > 105: # filter some of the not accredited\n",
    "        print(name)"
   ]
  },
  {
   "cell_type": "markdown",
   "metadata": {},
   "source": [
    "populate `insitutions` table using packages"
   ]
  },
  {
   "cell_type": "code",
   "execution_count": 22,
   "metadata": {},
   "outputs": [
    {
     "name": "stdout",
     "output_type": "stream",
     "text": [
      "CPU times: user 1.72 ms, sys: 2.51 ms, total: 4.23 ms\n",
      "Wall time: 90.5 ms\n"
     ]
    }
   ],
   "source": [
    "%%time\n",
    "data=[]\n",
    "for a in unis:\n",
    "    name = a[\"University\"]\n",
    "    if len(name) > 105: # filter not accredited\n",
    "        continue\n",
    "    country_id = countries[a['Country']]\n",
    "    website = a[\"Website\"]\n",
    "    funding = a[\"Funding\"].lower()\n",
    "    data.append(\"('{}', {}, '{}', '{}')\".format(name, country_id, website, funding))\n",
    "    \n",
    "for i in range(6):\n",
    "    req=\"INSERT INTO institutions (institution_name, country_id, website, funding) VALUES \" + \\\n",
    "    \",\".join(data[i*100:(i+1)*100])\n",
    "    cur.execute(req)\n",
    "\n",
    "    con.commit()"
   ]
  },
  {
   "cell_type": "code",
   "execution_count": 23,
   "metadata": {},
   "outputs": [
    {
     "data": {
      "text/plain": [
       "[{'name': 'National Research University Higher School of Economics',\n",
       "  'acronym': 'HSE'},\n",
       " {'name': 'Tomsk State Pedagogical Univesity', 'acronym': 'TSPU'},\n",
       " {'name': 'Ahlia University', 'acronym': None},\n",
       " {'name': 'AMA International University - Bahrain', 'acronym': None},\n",
       " {'name': 'American University of Bahrain', 'acronym': None},\n",
       " {'name': 'Applied Science University', 'acronym': None},\n",
       " {'name': 'Arab Open University - Bahrain Branch', 'acronym': None},\n",
       " {'name': 'Bahrain Institute of Banking and Finance', 'acronym': None},\n",
       " {'name': 'Arabian Gulf University', 'acronym': None},\n",
       " {'name': 'Bahrain Polytechnic', 'acronym': None}]"
      ]
     },
     "execution_count": 23,
     "metadata": {},
     "output_type": "execute_result"
    }
   ],
   "source": [
    "cur.execute(\"\"\"\n",
    "    SELECT institution_name as name, institution_short as acronym FROM institutions LIMIT 0,10;\n",
    "\"\"\")\n",
    "data=cur.fetchall()\n",
    "data"
   ]
  },
  {
   "cell_type": "markdown",
   "metadata": {},
   "source": [
    "update `institute_short` column"
   ]
  },
  {
   "cell_type": "code",
   "execution_count": 24,
   "metadata": {},
   "outputs": [],
   "source": [
    "cur.execute(\"\"\"\n",
    "UPDATE institutions \n",
    "SET institution_short = UPPER(REPLACE(REGEXP_SUBSTR(website, \"[a-z]+\\.edu\"), \"\\.edu\", \"\"))\n",
    "    WHERE institution_id IN ( \n",
    "        SELECT institution_id FROM \n",
    "        (SELECT institution_id, website FROM institutions\n",
    "        WHERE website REGEXP \"\\.edu\\.\" and LENGTH(website) < 25) as tbl1);\n",
    "\"\"\"\n",
    ")"
   ]
  },
  {
   "cell_type": "code",
   "execution_count": 25,
   "metadata": {},
   "outputs": [
    {
     "data": {
      "text/plain": [
       "[{'name': 'National Research University Higher School of Economics',\n",
       "  'acronym': 'HSE'},\n",
       " {'name': 'Tomsk State Pedagogical Univesity', 'acronym': 'TSPU'},\n",
       " {'name': 'AMA International University - Bahrain', 'acronym': 'AMAIU'},\n",
       " {'name': 'American University of Bahrain', 'acronym': 'AUBH'},\n",
       " {'name': 'Applied Science University', 'acronym': 'ASU'},\n",
       " {'name': 'Arabian Gulf University', 'acronym': 'AGU'},\n",
       " {'name': 'Royal University for Women', 'acronym': 'RUW'},\n",
       " {'name': 'The Kingdom University', 'acronym': 'KU'},\n",
       " {'name': 'University College of Bahrain', 'acronym': 'UCB'},\n",
       " {'name': 'Al-Mansour University College', 'acronym': 'MUC'}]"
      ]
     },
     "execution_count": 25,
     "metadata": {},
     "output_type": "execute_result"
    }
   ],
   "source": [
    "cur.execute(\"\"\"\n",
    "    SELECT institution_name as name, institution_short as acronym FROM institutions\n",
    "    WHERE institution_short <> '' LIMIT 0, 10;\n",
    "\"\"\")\n",
    "data = cur.fetchall()\n",
    "data"
   ]
  },
  {
   "cell_type": "markdown",
   "metadata": {},
   "source": [
    "populate `ratings` table"
   ]
  },
  {
   "cell_type": "code",
   "execution_count": 26,
   "metadata": {},
   "outputs": [
    {
     "data": {
      "text/plain": [
       "547"
      ]
     },
     "execution_count": 26,
     "metadata": {},
     "output_type": "execute_result"
    }
   ],
   "source": [
    "cur.execute(\"\"\"\n",
    "    SELECT institution_name as University, institution_id as id FROM institutions;\n",
    "\"\"\")\n",
    "uni_ids=cur.fetchall()\n",
    "uni_ids = {entry[\"University\"]: entry['id'] for entry in uni_ids}\n",
    "\n",
    "len(uni_ids)"
   ]
  },
  {
   "cell_type": "code",
   "execution_count": 27,
   "metadata": {},
   "outputs": [
    {
     "name": "stdout",
     "output_type": "stream",
     "text": [
      "CPU times: user 16.1 ms, sys: 5 ms, total: 21.1 ms\n",
      "Wall time: 519 ms\n"
     ]
    }
   ],
   "source": [
    "%%time\n",
    "\n",
    "for a in unis:\n",
    "    if a['Rated'] != True:\n",
    "        continue\n",
    "    uni_id = uni_ids[a[\"University\"]]\n",
    "    arwu = a[\"ARWU 2020\"]\n",
    "    the = a[\"THE 2021\"]\n",
    "    qs = a[\"QS 2021\"]\n",
    "    try:\n",
    "        sss = f\"\"\"\n",
    "        INSERT INTO ratings (institution_id, arwu, the, qs) \n",
    "        VALUES ({uni_id}, '{arwu}', '{the}', '{qs}')\"\"\"\n",
    "        cur.execute(sss)\n",
    "    except:\n",
    "        print(\n",
    "            \"\"\"Error - INSERT INTO ratings (institution_id, arwu, the, qs)\n",
    "            VALUES ('\"+uni_id+\"','\"+arwu+\"', '\"+the+\"', '\"+qs+\"')\"\"\")\n",
    "\n",
    "    con.commit()"
   ]
  },
  {
   "cell_type": "code",
   "execution_count": 28,
   "metadata": {},
   "outputs": [
    {
     "data": {
      "text/plain": [
       "[{'country': 'Jordan',\n",
       "  'university': 'ASU',\n",
       "  'arwu': '',\n",
       "  'the': '',\n",
       "  'qs': '651-700'},\n",
       " {'country': 'Saudi Arabia',\n",
       "  'university': None,\n",
       "  'arwu': '101-150',\n",
       "  'the': '201-250',\n",
       "  'qs': '143'},\n",
       " {'country': 'Saudi Arabia',\n",
       "  'university': None,\n",
       "  'arwu': '401-500',\n",
       "  'the': '501-600',\n",
       "  'qs': '186'},\n",
       " {'country': 'Lebanon',\n",
       "  'university': 'AUB',\n",
       "  'arwu': '601-700',\n",
       "  'the': '301-350',\n",
       "  'qs': '220'},\n",
       " {'country': 'Iraq', 'university': None, 'arwu': '', 'the': '1001+', 'qs': ''}]"
      ]
     },
     "execution_count": 28,
     "metadata": {},
     "output_type": "execute_result"
    }
   ],
   "source": [
    "cur.execute(\"\"\"\n",
    "    SELECT country_name as country, institution_short as university,\n",
    "    arwu, the, qs\n",
    "    FROM (SELECT * FROM institutions JOIN countries USING(country_id)) as tbl1\n",
    "    JOIN ratings USING(institution_id) WHERE institution_id <> 1 LIMIT 0,5 \n",
    "\"\"\")\n",
    "data = cur.fetchall()\n",
    "data"
   ]
  },
  {
   "cell_type": "markdown",
   "metadata": {},
   "source": [
    "populate `institution_type` table: if comes from HE.csv -> HE"
   ]
  },
  {
   "cell_type": "code",
   "execution_count": 29,
   "metadata": {},
   "outputs": [],
   "source": [
    "cur.execute(\"\"\"\n",
    "    SELECT institution_id as idx FROM institutions;\n",
    "\"\"\")\n",
    "uni_ids=cur.fetchall()"
   ]
  },
  {
   "cell_type": "code",
   "execution_count": 30,
   "metadata": {},
   "outputs": [
    {
     "name": "stdout",
     "output_type": "stream",
     "text": [
      "CPU times: user 2.81 ms, sys: 1.72 ms, total: 4.53 ms\n",
      "Wall time: 96.7 ms\n"
     ]
    }
   ],
   "source": [
    "%%time\n",
    "data=[]\n",
    "for entry in uni_ids:\n",
    "    if entry['idx'] < 3:\n",
    "        continue\n",
    "    type_full = 'Higher Education'\n",
    "    type_short = 'HE'\n",
    "    data.append(\"({}, '{}', '{}')\".format(entry['idx'], type_full, type_short))\n",
    "\n",
    "for i in range(6):\n",
    "    req=\"INSERT INTO institution_type (institution_id, type_full, type_short) VALUES \" + \\\n",
    "    \",\".join(data[i*100:(i+1)*100])\n",
    "    cur.execute(req)\n",
    "\n",
    "    con.commit()"
   ]
  },
  {
   "cell_type": "code",
   "execution_count": 32,
   "metadata": {},
   "outputs": [
    {
     "data": {
      "text/plain": [
       "[{'level_id': 1,\n",
       "  'institution_id': '1',\n",
       "  'type_full': 'Higher Education',\n",
       "  'type_short': 'HE'},\n",
       " {'level_id': 3,\n",
       "  'institution_id': '2',\n",
       "  'type_full': 'Higher Education',\n",
       "  'type_short': 'HE'},\n",
       " {'level_id': 4,\n",
       "  'institution_id': '2',\n",
       "  'type_full': 'Technical and Vocational Education and Training',\n",
       "  'type_short': 'TVET'},\n",
       " {'level_id': 2353,\n",
       "  'institution_id': '9182',\n",
       "  'type_full': 'Higher Education',\n",
       "  'type_short': 'HE'},\n",
       " {'level_id': 2354,\n",
       "  'institution_id': '9183',\n",
       "  'type_full': 'Higher Education',\n",
       "  'type_short': 'HE'}]"
      ]
     },
     "execution_count": 32,
     "metadata": {},
     "output_type": "execute_result"
    }
   ],
   "source": [
    "cur.execute(\"\"\"\n",
    "    SELECT * FROM institution_type LIMIT 0,5 \n",
    "\"\"\")\n",
    "data = cur.fetchall()\n",
    "data"
   ]
  },
  {
   "cell_type": "markdown",
   "metadata": {},
   "source": [
    "Populate `majors` table"
   ]
  },
  {
   "cell_type": "code",
   "execution_count": 33,
   "metadata": {},
   "outputs": [],
   "source": [
    "import re"
   ]
  },
  {
   "cell_type": "code",
   "execution_count": 34,
   "metadata": {},
   "outputs": [
    {
     "data": {
      "text/plain": [
       "[{'major': 'computer science', 'degree': 'Master', 'institution_id': 1},\n",
       " {'major': 'computer science', 'degree': 'Doctoral', 'institution_id': 1},\n",
       " {'major': 'computer science', 'degree': 'Bachelor', 'institution_id': 1},\n",
       " {'major': 'world economy', 'degree': 'Bachelor', 'institution_id': 1},\n",
       " {'major': 'world economy', 'degree': 'Master', 'institution_id': 1},\n",
       " {'major': 'world economy', 'degree': 'Doctoral', 'institution_id': 1},\n",
       " {'major': 'business informatics', 'degree': 'Bachelor', 'institution_id': 1},\n",
       " {'major': 'data science', 'degree': 'Master', 'institution_id': 1},\n",
       " {'major': 'psychology', 'degree': 'Bachelor', 'institution_id': 2},\n",
       " {'major': 'primary school teaching',\n",
       "  'degree': 'Bachelor',\n",
       "  'institution_id': 2},\n",
       " {'major': 'translation strudies', 'degree': 'Doctoral', 'institution_id': 2},\n",
       " {'major': 'language teacher', 'degree': 'Certificate', 'institution_id': 2}]"
      ]
     },
     "execution_count": 34,
     "metadata": {},
     "output_type": "execute_result"
    }
   ],
   "source": [
    "cur.execute(\"\"\"\n",
    "    SELECT major, degree, institution_id FROM majors \n",
    "\"\"\")\n",
    "data = cur.fetchall()\n",
    "data"
   ]
  },
  {
   "cell_type": "code",
   "execution_count": 35,
   "metadata": {},
   "outputs": [
    {
     "data": {
      "text/plain": [
       "476"
      ]
     },
     "execution_count": 35,
     "metadata": {},
     "output_type": "execute_result"
    }
   ],
   "source": [
    "website2majors = {entry[\"Website\"]: entry[\"Majors\"].lower().replace(\"'\", \"\") for entry in unis if entry['Majors'] != \"\"}\n",
    "len(website2majors)"
   ]
  },
  {
   "cell_type": "code",
   "execution_count": 37,
   "metadata": {},
   "outputs": [
    {
     "name": "stdout",
     "output_type": "stream",
     "text": [
      "http://www.ahliauniversity.edu.bh business administration, accountancy, modern languages, management, information management, finance, public relations, mass communication, arabic, interior design, mathematics, telecommunications engineering, physical therapy, multimedia systems, marketing, economics, information technology and computer science, graphic design, computer engineering, mobile and network engineering, computer and communication engineering\n"
     ]
    }
   ],
   "source": [
    "for website, majors in website2majors.items():\n",
    "    print(website, majors)\n",
    "    break"
   ]
  },
  {
   "cell_type": "code",
   "execution_count": 38,
   "metadata": {},
   "outputs": [
    {
     "data": {
      "text/plain": [
       "554"
      ]
     },
     "execution_count": 38,
     "metadata": {},
     "output_type": "execute_result"
    }
   ],
   "source": [
    "cur.execute(\"\"\"\n",
    "    SELECT website as website, institution_id as id FROM institutions;\n",
    "\"\"\")\n",
    "website2id=cur.fetchall()\n",
    "website2id = {entry[\"website\"]: entry['id'] for entry in website2id}\n",
    "\n",
    "len(website2id)"
   ]
  },
  {
   "cell_type": "code",
   "execution_count": 39,
   "metadata": {},
   "outputs": [
    {
     "name": "stdout",
     "output_type": "stream",
     "text": [
      "[\"('operations engineering (instrumentation and control)', 9190)\", \"('computing and systems development', 9190)\", \"('computing and systems development', 9190)\", \"('business administration,', 9190)\", \"('administrative and financial sciences', 9191)\", \"('interior design engineering', 9191)\", \"('network administration', 9191)\", \"('web and mobile applications development', 9191)\", \"('faculty of instruction', 9192)\", \"('faculty of arts and humanities', 9192)\"]\n"
     ]
    }
   ],
   "source": [
    "data=[]\n",
    "\n",
    "for website, majors in website2majors.items():\n",
    "    majors = majors.strip().split(\", \")\n",
    "    if website in website2id:\n",
    "        idx = website2id[website]\n",
    "        \n",
    "    for major in majors:\n",
    "        re.sub('[\\?\\.,]', \"\", major)\n",
    "        if len(major) < 100:\n",
    "            data.append(\"('{}', {})\".format(major, idx))\n",
    "    \n",
    "print(data[100:110])"
   ]
  },
  {
   "cell_type": "code",
   "execution_count": 40,
   "metadata": {},
   "outputs": [
    {
     "data": {
      "text/plain": [
       "10877"
      ]
     },
     "execution_count": 40,
     "metadata": {},
     "output_type": "execute_result"
    }
   ],
   "source": [
    "data = [entry for entry in data if entry] # somehow there invalid entries\n",
    "len(data)"
   ]
  },
  {
   "cell_type": "code",
   "execution_count": 41,
   "metadata": {},
   "outputs": [
    {
     "name": "stdout",
     "output_type": "stream",
     "text": [
      "CPU times: user 19.5 ms, sys: 21.2 ms, total: 40.7 ms\n",
      "Wall time: 1.27 s\n"
     ]
    }
   ],
   "source": [
    "%%time\n",
    "top = int(len(data) / 100) + 1\n",
    "\n",
    "for i in range(top):\n",
    "    req=\"INSERT INTO majors (major, institution_id) VALUES \" + \\\n",
    "    \",\".join(data[i*100:(i+1)*100])\n",
    "    cur.execute(req)\n",
    "\n",
    "    con.commit()"
   ]
  },
  {
   "cell_type": "code",
   "execution_count": 42,
   "metadata": {},
   "outputs": [
    {
     "data": {
      "text/plain": [
       "[{'major': 'business administration', 'degree': None, 'institution_id': 9182},\n",
       " {'major': 'accountancy', 'degree': None, 'institution_id': 9182},\n",
       " {'major': 'modern languages', 'degree': None, 'institution_id': 9182},\n",
       " {'major': 'management', 'degree': None, 'institution_id': 9182},\n",
       " {'major': 'information management', 'degree': None, 'institution_id': 9182},\n",
       " {'major': 'finance', 'degree': None, 'institution_id': 9182},\n",
       " {'major': 'public relations', 'degree': None, 'institution_id': 9182},\n",
       " {'major': 'mass communication', 'degree': None, 'institution_id': 9182},\n",
       " {'major': 'arabic', 'degree': None, 'institution_id': 9182},\n",
       " {'major': 'interior design', 'degree': None, 'institution_id': 9182},\n",
       " {'major': 'mathematics', 'degree': None, 'institution_id': 9182},\n",
       " {'major': 'telecommunications engineering',\n",
       "  'degree': None,\n",
       "  'institution_id': 9182},\n",
       " {'major': 'physical therapy', 'degree': None, 'institution_id': 9182},\n",
       " {'major': 'multimedia systems', 'degree': None, 'institution_id': 9182},\n",
       " {'major': 'marketing', 'degree': None, 'institution_id': 9182},\n",
       " {'major': 'economics', 'degree': None, 'institution_id': 9182},\n",
       " {'major': 'information technology and computer science',\n",
       "  'degree': None,\n",
       "  'institution_id': 9182},\n",
       " {'major': 'graphic design', 'degree': None, 'institution_id': 9182},\n",
       " {'major': 'computer engineering', 'degree': None, 'institution_id': 9182},\n",
       " {'major': 'mobile and network engineering',\n",
       "  'degree': None,\n",
       "  'institution_id': 9182}]"
      ]
     },
     "execution_count": 42,
     "metadata": {},
     "output_type": "execute_result"
    }
   ],
   "source": [
    "cur.execute(\"\"\"\n",
    "    SELECT major, degree, institution_id FROM majors WHERE major_id >12 LIMIT 0,20 \n",
    "\"\"\")\n",
    "data = cur.fetchall()\n",
    "data\n",
    "# later it is possible to update degrees using major (some of them have degrees in the name of a major)"
   ]
  },
  {
   "cell_type": "markdown",
   "metadata": {},
   "source": [
    "create table `ict_education` to store info if the university is rated and has ict majors (e.g. computer science TBD)"
   ]
  },
  {
   "cell_type": "code",
   "execution_count": 43,
   "metadata": {},
   "outputs": [],
   "source": [
    "cur.execute(\"DROP TABLE IF EXISTS ict_education\")"
   ]
  },
  {
   "cell_type": "code",
   "execution_count": 44,
   "metadata": {},
   "outputs": [],
   "source": [
    "cur.execute(\"\"\"\n",
    "    CREATE TABLE `ict_education` (\n",
    "    `entry_id` INT NOT NULL AUTO_INCREMENT,\n",
    "    `institution_id` INT NOT NULL,\n",
    "    `is_rated` TINYINT NULL,\n",
    "    `is_ict` TINYINT NULL,\n",
    "    PRIMARY KEY (`entry_id`),\n",
    "    UNIQUE INDEX `insitution_id_UNIQUE` (`institution_id` ASC) VISIBLE);\n",
    "\"\"\")\n",
    "\n",
    "con.commit()"
   ]
  },
  {
   "cell_type": "markdown",
   "metadata": {},
   "source": [
    "get ids of stored unis"
   ]
  },
  {
   "cell_type": "code",
   "execution_count": 45,
   "metadata": {},
   "outputs": [
    {
     "data": {
      "text/plain": [
       "554"
      ]
     },
     "execution_count": 45,
     "metadata": {},
     "output_type": "execute_result"
    }
   ],
   "source": [
    "cur.execute(\"\"\"\n",
    "    SELECT institution_id as idx FROM institutions;\n",
    "\"\"\")\n",
    "uni_ids=cur.fetchall()\n",
    "uni_ids = [entry[\"idx\"] for entry in uni_ids]\n",
    "\n",
    "len(uni_ids)"
   ]
  },
  {
   "cell_type": "code",
   "execution_count": 46,
   "metadata": {},
   "outputs": [
    {
     "name": "stdout",
     "output_type": "stream",
     "text": [
      "CPU times: user 37.3 ms, sys: 28.9 ms, total: 66.2 ms\n",
      "Wall time: 224 ms\n"
     ]
    }
   ],
   "source": [
    "%%time\n",
    "\n",
    "for idx in uni_ids:\n",
    "    try:\n",
    "        sss = f\"\"\"\n",
    "        INSERT INTO ict_education (institution_id, is_rated, is_ict) \n",
    "        VALUES ({idx}, {0}, {0})\"\"\"\n",
    "        cur.execute(sss)\n",
    "    except:\n",
    "        print(\n",
    "            \"\"\"Error - INSERT INTO ict_education (institution_id) \n",
    "        VALUES ({uni_id})\"\"\")\n",
    "\n",
    "con.commit()"
   ]
  },
  {
   "cell_type": "code",
   "execution_count": 47,
   "metadata": {},
   "outputs": [],
   "source": [
    "cur.execute(\"\"\"\n",
    "    UPDATE ict_education SET is_ICT = 1\n",
    "    WHERE institution_id IN \n",
    "        (SELECT institution_id FROM \n",
    "            (SELECT institution_id, GROUP_CONCAT(major) as majors\n",
    "                FROM (SELECT DISTINCT institution_id, major FROM majors\n",
    "                    WHERE major \n",
    "                        REGEXP '(computer science)|(artificial intelligence)|(data science)') as tbl1\n",
    "            GROUP BY institution_id) as tbl2);\n",
    "\"\"\")"
   ]
  },
  {
   "cell_type": "code",
   "execution_count": 48,
   "metadata": {},
   "outputs": [],
   "source": [
    "cur.execute(\"\"\"\n",
    "    UPDATE ict_education SET is_rated = 1\n",
    "    WHERE institution_id IN \n",
    "        (SELECT institution_id FROM (SELECT * FROM ratings) as tbl1);\n",
    "\"\"\")"
   ]
  },
  {
   "cell_type": "code",
   "execution_count": 49,
   "metadata": {},
   "outputs": [
    {
     "data": {
      "text/plain": [
       "[{'entry_id': 1, 'institution_id': 1, 'is_rated': 1, 'is_ict': 1},\n",
       " {'entry_id': 2, 'institution_id': 2, 'is_rated': 0, 'is_ict': 0},\n",
       " {'entry_id': 3, 'institution_id': 9182, 'is_rated': 0, 'is_ict': 1},\n",
       " {'entry_id': 4, 'institution_id': 9183, 'is_rated': 0, 'is_ict': 1},\n",
       " {'entry_id': 5, 'institution_id': 9184, 'is_rated': 0, 'is_ict': 1},\n",
       " {'entry_id': 6, 'institution_id': 9185, 'is_rated': 0, 'is_ict': 1},\n",
       " {'entry_id': 7, 'institution_id': 9186, 'is_rated': 0, 'is_ict': 0},\n",
       " {'entry_id': 8, 'institution_id': 9187, 'is_rated': 0, 'is_ict': 0},\n",
       " {'entry_id': 9, 'institution_id': 9188, 'is_rated': 0, 'is_ict': 0},\n",
       " {'entry_id': 10, 'institution_id': 9189, 'is_rated': 0, 'is_ict': 0},\n",
       " {'entry_id': 11, 'institution_id': 9190, 'is_rated': 0, 'is_ict': 0},\n",
       " {'entry_id': 12, 'institution_id': 9191, 'is_rated': 0, 'is_ict': 0},\n",
       " {'entry_id': 13, 'institution_id': 9192, 'is_rated': 1, 'is_ict': 0},\n",
       " {'entry_id': 14, 'institution_id': 9193, 'is_rated': 0, 'is_ict': 0},\n",
       " {'entry_id': 15, 'institution_id': 9194, 'is_rated': 0, 'is_ict': 0},\n",
       " {'entry_id': 16, 'institution_id': 9195, 'is_rated': 0, 'is_ict': 0},\n",
       " {'entry_id': 17, 'institution_id': 9196, 'is_rated': 0, 'is_ict': 0},\n",
       " {'entry_id': 18, 'institution_id': 9197, 'is_rated': 0, 'is_ict': 0},\n",
       " {'entry_id': 19, 'institution_id': 9198, 'is_rated': 0, 'is_ict': 0},\n",
       " {'entry_id': 20, 'institution_id': 9199, 'is_rated': 0, 'is_ict': 1}]"
      ]
     },
     "execution_count": 49,
     "metadata": {},
     "output_type": "execute_result"
    }
   ],
   "source": [
    "cur.execute(\"\"\"\n",
    "    SELECT * FROM ict_education LIMIT 0,20 \n",
    "\"\"\")\n",
    "data = cur.fetchall()\n",
    "data "
   ]
  },
  {
   "cell_type": "code",
   "execution_count": null,
   "metadata": {},
   "outputs": [],
   "source": []
  }
 ],
 "metadata": {
  "kernelspec": {
   "display_name": "Python 3",
   "language": "python",
   "name": "python3"
  },
  "language_info": {
   "codemirror_mode": {
    "name": "ipython",
    "version": 3
   },
   "file_extension": ".py",
   "mimetype": "text/x-python",
   "name": "python",
   "nbconvert_exporter": "python",
   "pygments_lexer": "ipython3",
   "version": "3.8.5"
  }
 },
 "nbformat": 4,
 "nbformat_minor": 4
}
